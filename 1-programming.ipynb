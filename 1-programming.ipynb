{
 "cells": [
  {
   "cell_type": "markdown",
   "metadata": {},
   "source": [
    "<br><br>\n",
    "<img src='aisg_logo.png' width=\"700px\">  \n",
    "<br>\n",
    "# AI Apprentice Programme\n",
    "## Take-home Written Assignment\n",
    "\n",
    "### Problem 1 - Programming\n",
    "Programming is the bread and butter of every data professional. Handling large quantities of data requires a good mastery of basic computer programming, especially in the case of feature engineering. Hence, our first challenge is a programming challenge.\n",
    "\n",
    "This is an algorithm question. You will be tested on your algorithm design skills, as well as your ability to write high quality code.\n",
    "\n",
    "You will be assessed on 1) the correctness of your algorithm, 2) the time complexity of your algorithm, and 3) your code quality, including tests.\n",
    "\n",
    "You should be able to complete this question in 60 minutes. However, you are not limited to this time frame."
   ]
  },
  {
   "cell_type": "markdown",
   "metadata": {},
   "source": [
    "\n",
    "### A. The Challenge\n",
    "Given a 6 or less digits positive integer (0 - 999999 inclusive), write a function `englishify(number: int)` that returns the full English equivalent of that number. Here are some samples of the structure you are expected to generate:  \n",
    "  \n",
    "| Numerical | Spelling |\n",
    "| --------- | -------------- |\n",
    "| 1 | One |\n",
    "| 22 | Twenty Two |\n",
    "| 222 | Two Hundred And Twenty Two |\n",
    "| 202 | Two Hundred And Two |\n",
    "| 1234 | One Thousand, Two Hundred and Thirty Four |\n",
    "| 4040 | Four Thousand And Forty |\n",
    "| 31337 | Thirty One Thousand, Three Hundred And Thirty Seven |\n",
    "| 55227 | Fifty Five Thousand, Two Hundred and Twenty Seven |\n",
    "| 100080 | One Hundred Thousand And Eighty |\n",
    "| 500000 | Five Hundred Thousand |\n",
    "| 609018 | Six Hundred And Nine Thousand And Eighteen |\n",
    "\n",
    "General rules:\n",
    "- No dashes/hyphens\n",
    "- Capitalise Every Word\n",
    "- Use British spelling\n",
    "- There should be a comma, but not \"And\" after the thousands, before the hundreds if both exist\n",
    "- Use \"And\" where otherwise appropriate\n",
    "- We encourage use of Python, but other languages are also accepted. \n",
    "\n",
    "If you are writing other languages, please submit them in a separate file instead. That programme should accept one parameter. We will compile that file, run it with a number as an argument."
   ]
  },
  {
   "cell_type": "markdown",
   "metadata": {},
   "source": [
    "## FULL NAME: TAM HOU HENG\n",
    "## github username: noelcodes"
   ]
  },
  {
   "cell_type": "code",
   "execution_count": 1,
   "metadata": {},
   "outputs": [],
   "source": [
    "num_dict =      {   0: [''],\n",
    "                    1: ['One' ],\n",
    "                    2: ['Two'  , 'Twenty'],\n",
    "                    3: ['Three', 'Thirty'],\n",
    "                    4: ['Four' , 'Forty'],\n",
    "                    5: ['Five' , 'Fifty'],\n",
    "                    6: ['Six'  , 'Sixty'],\n",
    "                    7: ['Seven', 'Seventy'],\n",
    "                    8: ['Eight', 'Eighty'],\n",
    "                    9: ['Nine' , 'Ninty'],\n",
    "                   10: ['Ten'],\n",
    "                   11: ['Eleven'],\n",
    "                   12: ['Twelve'],\n",
    "                   13: ['Thirteen'],\n",
    "                   14: ['Fourteen'],\n",
    "                   15: ['Fifteen'],\n",
    "                   16: ['Sixteen'],\n",
    "                   17: ['Seventeen'],\n",
    "                   18: ['Eighteen'],\n",
    "                   19: ['Nineteen'],\n",
    "                   }"
   ]
  },
  {
   "cell_type": "code",
   "execution_count": 2,
   "metadata": {},
   "outputs": [],
   "source": [
    "def ones(num):\n",
    "    wat_num = num\n",
    "    return num_dict[wat_num][0] + (str(' ') if num > 0 else '')\n",
    "\n",
    "def tens(num):   \n",
    "    num_list = list(map(int,str(num)))  \n",
    "    ret_tens = \"\"\n",
    "    wat_pos = 1\n",
    "    for a in num_list:\n",
    "        wat_num = a\n",
    "        ret_tens += str(num_dict[wat_num][wat_pos]) + (str(' ') if num > 20 else '')\n",
    "        wat_pos -= 1\n",
    "\n",
    "    return ret_tens\n",
    "\n",
    "def hundreds(num):\n",
    "    if abs(num)%100 == 0:\n",
    "        return ones(int(str(num)[:1])) + 'Hundred '\n",
    "    else:\n",
    "        if abs(num)%100 < 20:\n",
    "            return ones(int(str(num)[:1])) + 'Hundred ' + ('And ' + ones(abs(num)%100))\n",
    "        else:\n",
    "            return ones(int(str(num)[:1])) + 'Hundred ' + ('And ' + tens(abs(num)%100))\n",
    "    \n",
    "def three_digit(number_input):\n",
    "    if (number_input < 20):\n",
    "        return ones(number_input)\n",
    "    elif  (number_input >= 20) and (number_input < 100):\n",
    "        return tens(abs(number_input) % 100)\n",
    "    elif (number_input > 99) and (number_input<1000):\n",
    "        return hundreds(number_input)\n",
    "\n",
    "def commas_and(user_input):\n",
    "    if abs(user_input)%1000 != 0 and abs(user_input)%1000 > 99:\n",
    "        return ', '\n",
    "    elif abs(user_input)%1000 == 0:\n",
    "        return ''\n",
    "    else:\n",
    "        return ' and '\n",
    "\n",
    "def englishify(user_input):\n",
    "    if user_input == 0:\n",
    "        print('Zero')\n",
    "    elif user_input > 999 and user_input<=999999:\n",
    "        print(three_digit(int(str(user_input)[:-3]))  + 'Thousand'  \\\n",
    "              + commas_and(user_input) + three_digit(abs(user_input)%1000))\n",
    "    elif user_input > 999999:\n",
    "        print('Out_of_range')\n",
    "    else:\n",
    "        print(three_digit(abs(user_input)%1000))"
   ]
  },
  {
   "cell_type": "markdown",
   "metadata": {},
   "source": [
    "### B. Testing\n",
    "You are encouraged to write out your test cases here to validate your answer. Leave the tests in the notebook, as we would like to look at your edge tests as well!"
   ]
  },
  {
   "cell_type": "code",
   "execution_count": 3,
   "metadata": {},
   "outputs": [
    {
     "name": "stdout",
     "output_type": "stream",
     "text": [
      "1 = One \n",
      "22 = Twenty Two \n",
      "222 = Two Hundred And Twenty Two \n",
      "202 = Two Hundred And Two \n",
      "1234 = One Thousand, Two Hundred And Thirty Four \n",
      "4040 = Four Thousand and Forty  \n",
      "31337 = Thirty One Thousand, Three Hundred And Thirty Seven \n",
      "55227 = Fifty Five Thousand, Two Hundred And Twenty Seven \n",
      "100080 = One Hundred Thousand and Eighty  \n",
      "500000 = Five Hundred Thousand\n",
      "609018 = Six Hundred And Nine Thousand and Eighteen \n",
      "5215515 = Out_of_range\n"
     ]
    }
   ],
   "source": [
    "ai_test = [1,22,222,202,1234,4040,31337,55227,100080,500000,609018,5215515]\n",
    "for ai in ai_test:\n",
    "    print(\"%s = \" % (ai), end = ''), '%s' % englishify(ai)\n"
   ]
  },
  {
   "cell_type": "code",
   "execution_count": 10,
   "metadata": {},
   "outputs": [
    {
     "name": "stdout",
     "output_type": "stream",
     "text": [
      "0 = Zero\n",
      "7 = Seven \n",
      "8 = Eight \n",
      "6 = Six \n",
      "3 = Three \n"
     ]
    }
   ],
   "source": [
    "import random\n",
    "for x in range(5):\n",
    "    number = random.randint(0,9)\n",
    "    print(\"%s = \" % (number), end = ''), '%s' % englishify(number)"
   ]
  },
  {
   "cell_type": "code",
   "execution_count": 5,
   "metadata": {},
   "outputs": [
    {
     "name": "stdout",
     "output_type": "stream",
     "text": [
      "91 = Ninty One \n",
      "40 = Forty  \n",
      "14 = Fourteen \n",
      "63 = Sixty Three \n",
      "83 = Eighty Three \n"
     ]
    }
   ],
   "source": [
    "import random\n",
    "for x in range(5):\n",
    "    number = random.randint(0,99)\n",
    "    print(\"%s = \" % (number), end = ''), '%s' % englishify(number)"
   ]
  },
  {
   "cell_type": "code",
   "execution_count": 6,
   "metadata": {},
   "outputs": [
    {
     "name": "stdout",
     "output_type": "stream",
     "text": [
      "227 = Two Hundred And Twenty Seven \n",
      "616 = Six Hundred And Sixteen \n",
      "637 = Six Hundred And Thirty Seven \n",
      "326 = Three Hundred And Twenty Six \n",
      "103 = One Hundred And Three \n"
     ]
    }
   ],
   "source": [
    "import random\n",
    "for x in range(5):\n",
    "    number = random.randint(100,999)\n",
    "    print(\"%s = \" % (number), end = ''), '%s' % englishify(number)"
   ]
  },
  {
   "cell_type": "code",
   "execution_count": 7,
   "metadata": {},
   "outputs": [
    {
     "name": "stdout",
     "output_type": "stream",
     "text": [
      "6614 = Six Thousand, Six Hundred And Fourteen \n",
      "1199 = One Thousand, One Hundred And Ninty Nine \n",
      "3959 = Three Thousand, Nine Hundred And Fifty Nine \n",
      "9058 = Nine Thousand and Fifty Eight \n",
      "3927 = Three Thousand, Nine Hundred And Twenty Seven \n"
     ]
    }
   ],
   "source": [
    "import random\n",
    "for x in range(5):\n",
    "    number = random.randint(1000,9999)\n",
    "    print(\"%s = \" % (number), end = ''), '%s' % englishify(number)"
   ]
  },
  {
   "cell_type": "code",
   "execution_count": 8,
   "metadata": {},
   "outputs": [
    {
     "name": "stdout",
     "output_type": "stream",
     "text": [
      "57363 = Fifty Seven Thousand, Three Hundred And Sixty Three \n",
      "81648 = Eighty One Thousand, Six Hundred And Forty Eight \n",
      "51137 = Fifty One Thousand, One Hundred And Thirty Seven \n",
      "13741 = Thirteen Thousand, Seven Hundred And Forty One \n",
      "35091 = Thirty Five Thousand and Ninty One \n"
     ]
    }
   ],
   "source": [
    "import random\n",
    "for x in range(5):\n",
    "    number = random.randint(10000,99999)\n",
    "    print(\"%s = \" % (number), end = ''), '%s' % englishify(number)"
   ]
  },
  {
   "cell_type": "code",
   "execution_count": 9,
   "metadata": {},
   "outputs": [
    {
     "name": "stdout",
     "output_type": "stream",
     "text": [
      "506871 = Five Hundred And Six Thousand, Eight Hundred And Seventy One \n",
      "274640 = Two Hundred And Seventy Four Thousand, Six Hundred And Forty  \n",
      "542726 = Five Hundred And Forty Two Thousand, Seven Hundred And Twenty Six \n",
      "643596 = Six Hundred And Forty Three Thousand, Five Hundred And Ninty Six \n",
      "204932 = Two Hundred And Four Thousand, Nine Hundred And Thirty Two \n"
     ]
    }
   ],
   "source": [
    "import random\n",
    "for x in range(5):\n",
    "    number = random.randint(100000,999999)\n",
    "    print(\"%s = \" % (number), end = ''), '%s' % englishify(number)"
   ]
  },
  {
   "cell_type": "markdown",
   "metadata": {},
   "source": [
    "### C. Documentation/Explanation\n",
    "What is the computational complexity of your algorithm? Please also write a few lines explaining your thought process, or any comments. If you did not manage to score a full score, we will also use this explanation to assess your submission."
   ]
  },
  {
   "cell_type": "markdown",
   "metadata": {},
   "source": [
    "_You may write your explanation here._"
   ]
  },
  {
   "cell_type": "markdown",
   "metadata": {},
   "source": [
    "- Functions \"ones\" takes care of 1-19, because the teens do not follow the rules of above 20s. Example Thirteen, Twelve, etc..\n",
    "- Function \"tens\" takes care of 20-99. The num_dict dictionary is designed such that it is able to take care of all combinations. Example 36, there is a Thirty and a Five in the dictionary. Therefore, the dictionary key is the number itself, if its a tenth position it calls the tenth position in dictionary, else it calls the ones location. This way it will smartly join Thirty Six together.\n",
    "- Function \"hundreds\", the 1st digit follows the rules of 'ones'. Example 239 is Two (1st digit), follow by word \"Hundred\", so you get 'Two Hundred'. Then the 2nd and 3rd digits follows the tens rule, where 39 is Thirty Nine. Therefore calling function 'ones' and 'tens' comes in handy.\n",
    "- Function 'three_digit' calls all 3 functions above according to any 3 figures that throws at it. I do this because we can break a 6 figure down into 1st 3 digits set and last 3 digit set, as both sets follows the same conversion rules. Therefore, handling last 3 digit (below 1000), is the same as handling the 1st 3 digit set with a word \"Thousands\" added. \n",
    "Example 929852, we break to 2x sets, [929] and [852] sets. So we get [929] taken care by function 'hundreds' then add a word \"Thousand\", then [852] converted by function 'hundreds'.\n",
    "- Function 'commas_and' takes care of correct placement of commas and word 'and' when numbers is at the thousands.\n",
    "- Function englishify is where it puts everything above together smartly, ie. 'three_digit' and 'commas_add'. \n"
   ]
  },
  {
   "cell_type": "code",
   "execution_count": null,
   "metadata": {},
   "outputs": [],
   "source": []
  }
 ],
 "metadata": {
  "kernelspec": {
   "display_name": "Python 3",
   "language": "python",
   "name": "python3"
  },
  "language_info": {
   "codemirror_mode": {
    "name": "ipython",
    "version": 3
   },
   "file_extension": ".py",
   "mimetype": "text/x-python",
   "name": "python",
   "nbconvert_exporter": "python",
   "pygments_lexer": "ipython3",
   "version": "3.6.4"
  }
 },
 "nbformat": 4,
 "nbformat_minor": 2
}
