{
 "cells": [
  {
   "cell_type": "markdown",
   "metadata": {},
   "source": [
    "<br><br>\n",
    "<img src='aisg_logo.png' width=\"700px\">  \n",
    "<br>\n",
    "# AI Apprentice Programme\n",
    "## Take-home Written Assignment\n",
    "\n",
    "### Problem 2 - Application Development\n",
    "As an AI Apprentice, you may also be required to deploy the data algorithms that you build. Hence, application development is also a crucial skill for AI engineering.\n",
    "\n",
    "This problem will test your application development skills at a surface level. We are looking for high quality code with good code coverage.\n",
    "\n",
    "You will be assessed on 1) the ability of your endpoint to fulfill requirements listed, 2) your code quality, including tests and 3) the conception of the ecosystem surrounding this microservice.\n",
    "\n",
    "You should be able to complete this question in 60 minutes if you are a seasoned Flask user. However, you are not limited to this time frame."
   ]
  },
  {
   "cell_type": "markdown",
   "metadata": {},
   "source": [
    "### A. The Challenge\n",
    "Write an Flask application to service an endpoint at `localhost:5000/` (the standard Flask port). This endpoint should deploy the model `model.pkl` (an `sklearn.linear_model.LogisticRegression` model dumped with joblib) that comes with this assignment.\n",
    "\n",
    "The endpoint should accept the `POST` method with __body__ param `a`, `b` and `c`, each a floating point number. Then, it should generate either 1 or 0 through the model's `predict` method, which takes in lists of 3 numbers from the request. Please include some basic unit tests for this endpoint.\n",
    "\n",
    "This assignment is highly open-ended. You are open (and encouraged) to select libraries or tools beyond Flask to build a better endpoint. Some possible ideas would be: additional documentation for the user, response statuses, or perhaps some form of sessioning. WSGI or nginx deployment is not necessary.\n",
    "\n",
    "The default python version will be 3.6. You are encouraged to do some form of environment management."
   ]
  },
  {
   "cell_type": "markdown",
   "metadata": {},
   "source": [
    "__Note:__ This component does not require an answer in the Jupyter notebook. Instead, please create the app in a folder, in which we will run the command `python -m flask run`, unless you state otherwise. It is expected to require minimal set up."
   ]
  },
  {
   "cell_type": "markdown",
   "metadata": {},
   "source": [
    "### B. Deployment Considerations\n",
    "In production, this application will be deployed for use for a far larger model. Consider that we are using a deep learning model with 2 million weights, taking in 100 params in a json format, and the endpoint will be hit on average once a second. Please provide a short treatment on the stack of tools you would consider to deploy such a model (a few sentences is sufficient). We would just like to see that you have ability to consider serving models for production. Your organisation would like to place the application on the cloud for now, so do think about scaling, monitoring and model management as well. The model would be retrained on a weekly basis."
   ]
  },
  {
   "cell_type": "markdown",
   "metadata": {},
   "source": [
    "_Input your answer here._"
   ]
  },
  {
   "cell_type": "markdown",
   "metadata": {},
   "source": [
    "### C. Reference Code from Training"
   ]
  },
  {
   "cell_type": "code",
   "execution_count": null,
   "metadata": {},
   "outputs": [],
   "source": [
    "from sklearn.linear_model import LogisticRegression\n",
    "from sklearn.externals import joblib"
   ]
  },
  {
   "cell_type": "code",
   "execution_count": null,
   "metadata": {},
   "outputs": [],
   "source": [
    "lgr = LogisticRegression()\n",
    "# ... training goes here\n",
    "lgr.predict([[1.1, 2.2, 3.3]])\n",
    "joblib.dump(lgr, 'model.pkl')"
   ]
  }
 ],
 "metadata": {
  "kernelspec": {
   "display_name": "Python 3",
   "language": "python",
   "name": "python3"
  },
  "language_info": {
   "codemirror_mode": {
    "name": "ipython",
    "version": 3
   },
   "file_extension": ".py",
   "mimetype": "text/x-python",
   "name": "python",
   "nbconvert_exporter": "python",
   "pygments_lexer": "ipython3",
   "version": "3.6.5"
  }
 },
 "nbformat": 4,
 "nbformat_minor": 2
}
