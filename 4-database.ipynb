{
 "cells": [
  {
   "cell_type": "markdown",
   "metadata": {},
   "source": [
    "<br><br>\n",
    "<img src='aisg_logo.png' width=\"700px\">  \n",
    "<br>\n",
    "# AI Apprentice Programme\n",
    "## Take-home Written Assignment\n",
    "\n",
    "### Problem 4 - Database Preparation and Querying\n",
    "Today's problems revolving artificial intelligence are often data driven, involving algorithms that perform well based on training with big data. Hence, the ability to manage data has become a crucial skill. One key platform data is collected are on SQL servers.\n",
    "\n",
    "Hence, this problem will test your ability to work with and query an SQL database. We will be using the SQLite flavour of the RDBMS.\n",
    "\n",
    "You will be assessed primarily on your ability write efficient, high quality code to set up and query from a SQLite database.\n",
    "\n",
    "You should be able to complete this question in 60 minutes as a seasoned user of SQL databases. However, you are not limited to this time frame."
   ]
  },
  {
   "cell_type": "markdown",
   "metadata": {},
   "source": [
    "### Problem\n",
    "\n",
    "Consider that you are running a Kaggle-like competition for an assessment exercise. You have a fixed number of undergraduate students in your class of different years and majors - students of years 1 to 4, and of majors in Computer Science (CS), Business Analytics (BA) and Statistics (ST). Given below are the SQL tables of the competition.\n",
    "\n",
    "In this competition, however, the student is expected to submit a script that will compile and generate a binary model for evaluation purposes. Hence, the model must be expected to compile upon submission, the compilability of the model is recorded per submission.\n",
    "\n",
    "__students:__  \n",
    "\n",
    "| student_id | student_name | year | major |\n",
    "|-|-|-|-|\n",
    "|1|Alan Tan|2|BA|\n",
    "|2|Mary Lee|4|CS|\n",
    "|3|Justin Chong|3|ST|\n",
    "|4|Gerald Lim|3|CS|\n",
    "|5|Barry Choo|3|BA|\n",
    "|...|...|...|...|\n",
    "\n",
    "\n",
    "\n",
    "__submissions:__\n",
    "\n",
    "| student_id | submission_id | date | did_compile | accuracy |\n",
    "|-|-|-|-|-|\n",
    "|3|1|2018-07-25|true|0.47|\n",
    "|2|2|2018-07-26|false|0|\n",
    "|3|3|2018-07-26|true|0.69|\n",
    "|4|4|2018-07-27|true|0.44|\n",
    "|...|...|...|...|...|"
   ]
  },
  {
   "cell_type": "markdown",
   "metadata": {},
   "source": [
    "### A. Normalisation\n",
    "In each of the following questions, first define the normalisation definition, then state if the table you last created (or if you haven't created any yet, then the one given in the problem) fulfills the normalisation criteria. If not, please provide a table, with minimal change, that fulfills this normalisation criteria *but not the following one, if any*.\n",
    "\n",
    "For example, if you feel that the table does not fulfill 1NF, do provide a suggested normalisation for 1NF, but do not go beyond to satisfy 2NF as well, as that is an exercise for the following part."
   ]
  },
  {
   "cell_type": "markdown",
   "metadata": {},
   "source": [
    "#### 1. Do the tables fulfill 1NF? If not, please provide a normalised set of tables."
   ]
  },
  {
   "cell_type": "code",
   "execution_count": null,
   "metadata": {},
   "outputs": [],
   "source": [
    " "
   ]
  },
  {
   "cell_type": "markdown",
   "metadata": {},
   "source": [
    "#### 2. Do the tables you last defined (if any) then fulfill 2NF? If not, please provide a normalised set of tables."
   ]
  },
  {
   "cell_type": "code",
   "execution_count": null,
   "metadata": {},
   "outputs": [],
   "source": []
  },
  {
   "cell_type": "markdown",
   "metadata": {},
   "source": [
    "#### 3. Do the tables you last defined (if any) then fulfill 3NF? If not, please provide a normalised set of tables."
   ]
  },
  {
   "cell_type": "code",
   "execution_count": null,
   "metadata": {},
   "outputs": [],
   "source": []
  },
  {
   "cell_type": "markdown",
   "metadata": {},
   "source": [
    "### B. Database Preparation"
   ]
  },
  {
   "cell_type": "markdown",
   "metadata": {},
   "source": [
    "#### 1. We have provided a data dump, `data_sql.csv` with the following columns: `[student_name, year, major, date, did_compile, accuracy]`. Write a set of scripts in any common data-centric language(s) that will generate the 3NF tables you specified as a SQLite database. Ensure the reproducibility of the script. You may wish to put in sufficient documentation to allow your code to be better understood by your cross-domain peers."
   ]
  },
  {
   "cell_type": "code",
   "execution_count": 2,
   "metadata": {},
   "outputs": [
    {
     "data": {
      "text/html": [
       "<div>\n",
       "<style scoped>\n",
       "    .dataframe tbody tr th:only-of-type {\n",
       "        vertical-align: middle;\n",
       "    }\n",
       "\n",
       "    .dataframe tbody tr th {\n",
       "        vertical-align: top;\n",
       "    }\n",
       "\n",
       "    .dataframe thead th {\n",
       "        text-align: right;\n",
       "    }\n",
       "</style>\n",
       "<table border=\"1\" class=\"dataframe\">\n",
       "  <thead>\n",
       "    <tr style=\"text-align: right;\">\n",
       "      <th></th>\n",
       "      <th>student_name</th>\n",
       "      <th>year</th>\n",
       "      <th>major</th>\n",
       "      <th>date</th>\n",
       "      <th>did_compile</th>\n",
       "      <th>accuracy</th>\n",
       "    </tr>\n",
       "  </thead>\n",
       "  <tbody>\n",
       "    <tr>\n",
       "      <th>0</th>\n",
       "      <td>Farah Nabilah</td>\n",
       "      <td>4</td>\n",
       "      <td>ST</td>\n",
       "      <td>7/1/18</td>\n",
       "      <td>NO</td>\n",
       "      <td>0.000000</td>\n",
       "    </tr>\n",
       "    <tr>\n",
       "      <th>1</th>\n",
       "      <td>Aston Wee</td>\n",
       "      <td>2</td>\n",
       "      <td>BA</td>\n",
       "      <td>7/2/18</td>\n",
       "      <td>NO</td>\n",
       "      <td>0.000000</td>\n",
       "    </tr>\n",
       "    <tr>\n",
       "      <th>2</th>\n",
       "      <td>Farah Nabilah</td>\n",
       "      <td>4</td>\n",
       "      <td>ST</td>\n",
       "      <td>7/2/18</td>\n",
       "      <td>NO</td>\n",
       "      <td>0.000000</td>\n",
       "    </tr>\n",
       "    <tr>\n",
       "      <th>3</th>\n",
       "      <td>Alan Tan</td>\n",
       "      <td>2</td>\n",
       "      <td>BA</td>\n",
       "      <td>7/2/18</td>\n",
       "      <td>YES</td>\n",
       "      <td>0.645583</td>\n",
       "    </tr>\n",
       "    <tr>\n",
       "      <th>4</th>\n",
       "      <td>Farah Nabilah</td>\n",
       "      <td>4</td>\n",
       "      <td>ST</td>\n",
       "      <td>7/3/18</td>\n",
       "      <td>NO</td>\n",
       "      <td>0.000000</td>\n",
       "    </tr>\n",
       "  </tbody>\n",
       "</table>\n",
       "</div>"
      ],
      "text/plain": [
       "    student_name  year major    date did_compile  accuracy\n",
       "0  Farah Nabilah     4    ST  7/1/18          NO  0.000000\n",
       "1      Aston Wee     2    BA  7/2/18          NO  0.000000\n",
       "2  Farah Nabilah     4    ST  7/2/18          NO  0.000000\n",
       "3       Alan Tan     2    BA  7/2/18         YES  0.645583\n",
       "4  Farah Nabilah     4    ST  7/3/18          NO  0.000000"
      ]
     },
     "execution_count": 2,
     "metadata": {},
     "output_type": "execute_result"
    }
   ],
   "source": [
    "import pandas\n",
    "pandas.read_csv('data_sql.csv').head()"
   ]
  },
  {
   "cell_type": "code",
   "execution_count": null,
   "metadata": {},
   "outputs": [],
   "source": []
  },
  {
   "cell_type": "markdown",
   "metadata": {},
   "source": [
    "### C. Querying\n",
    "Please provide a query, as a single transaction, to retrieve the specified information in the following questions."
   ]
  },
  {
   "cell_type": "markdown",
   "metadata": {},
   "source": [
    "#### 1. Please provide the 1) lowest 2) mean and 3) highest accuracy for each year and major. Each year/major should be a row, and the query should have 5 columns: major, year, lowest, mean, highest."
   ]
  },
  {
   "cell_type": "code",
   "execution_count": null,
   "metadata": {},
   "outputs": [],
   "source": []
  },
  {
   "cell_type": "markdown",
   "metadata": {},
   "source": [
    "#### 2. Please provide the names of 1) the most number of failed compilations of models of an individual student, 2) the name of that student, 3) mean compiled model performance, 4) highest model performance and 5) name of student with best model, for each year and major. Each year/major should be a row, and the query should have 7 columns: major, year, most_uncompiled, name_most_uncompiled, mean, best_model, name_best_model."
   ]
  },
  {
   "cell_type": "code",
   "execution_count": null,
   "metadata": {},
   "outputs": [],
   "source": []
  }
 ],
 "metadata": {
  "kernelspec": {
   "display_name": "Python 3",
   "language": "python",
   "name": "python3"
  },
  "language_info": {
   "codemirror_mode": {
    "name": "ipython",
    "version": 3
   },
   "file_extension": ".py",
   "mimetype": "text/x-python",
   "name": "python",
   "nbconvert_exporter": "python",
   "pygments_lexer": "ipython3",
   "version": "3.6.4"
  }
 },
 "nbformat": 4,
 "nbformat_minor": 2
}
